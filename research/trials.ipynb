{
 "cells": [
  {
   "cell_type": "markdown",
   "metadata": {},
   "source": [
    "## ConfixBox"
   ]
  },
  {
   "cell_type": "code",
   "execution_count": 7,
   "metadata": {},
   "outputs": [],
   "source": [
    "d = {\"key1\": \"value1\", \"key2\": \"value2\"}"
   ]
  },
  {
   "cell_type": "code",
   "execution_count": 9,
   "metadata": {},
   "outputs": [
    {
     "data": {
      "text/plain": [
       "'value1'"
      ]
     },
     "execution_count": 9,
     "metadata": {},
     "output_type": "execute_result"
    }
   ],
   "source": [
    "d[\"key1\"]"
   ]
  },
  {
   "cell_type": "code",
   "execution_count": 10,
   "metadata": {},
   "outputs": [
    {
     "ename": "AttributeError",
     "evalue": "'dict' object has no attribute 'key1'",
     "output_type": "error",
     "traceback": [
      "\u001b[1;31m---------------------------------------------------------------------------\u001b[0m",
      "\u001b[1;31mAttributeError\u001b[0m                            Traceback (most recent call last)",
      "\u001b[1;32me:\\NutBodyslam053\\work\\Projects\\MLOps\\BD528-software_engineering\\research\\trials-configbox.ipynb Cell 3\u001b[0m line \u001b[0;36m1\n\u001b[1;32m----> <a href='vscode-notebook-cell:/e%3A/NutBodyslam053/work/Projects/MLOps/BD528-software_engineering/research/trials-configbox.ipynb#W2sZmlsZQ%3D%3D?line=0'>1</a>\u001b[0m d\u001b[39m.\u001b[39;49mkey1\n",
      "\u001b[1;31mAttributeError\u001b[0m: 'dict' object has no attribute 'key1'"
     ]
    }
   ],
   "source": [
    "d.key1"
   ]
  },
  {
   "cell_type": "code",
   "execution_count": 11,
   "metadata": {},
   "outputs": [
    {
     "data": {
      "text/plain": [
       "ConfigBox({'key1': 'value1', 'key2': 'value2'})"
      ]
     },
     "execution_count": 11,
     "metadata": {},
     "output_type": "execute_result"
    }
   ],
   "source": [
    "from box import ConfigBox\n",
    "\n",
    "d2 = ConfigBox(d)\n",
    "d2"
   ]
  },
  {
   "cell_type": "code",
   "execution_count": 12,
   "metadata": {},
   "outputs": [
    {
     "data": {
      "text/plain": [
       "'value1'"
      ]
     },
     "execution_count": 12,
     "metadata": {},
     "output_type": "execute_result"
    }
   ],
   "source": [
    "d2.key1"
   ]
  },
  {
   "cell_type": "markdown",
   "metadata": {},
   "source": [
    "## ensure_annotaions"
   ]
  },
  {
   "cell_type": "code",
   "execution_count": 13,
   "metadata": {},
   "outputs": [],
   "source": [
    "def get_product(x: int, y: int) -> int:\n",
    "    return x * y"
   ]
  },
  {
   "cell_type": "code",
   "execution_count": 14,
   "metadata": {},
   "outputs": [
    {
     "data": {
      "text/plain": [
       "6"
      ]
     },
     "execution_count": 14,
     "metadata": {},
     "output_type": "execute_result"
    }
   ],
   "source": [
    "get_product(x=2, y=3)"
   ]
  },
  {
   "cell_type": "code",
   "execution_count": 15,
   "metadata": {},
   "outputs": [
    {
     "data": {
      "text/plain": [
       "'33'"
      ]
     },
     "execution_count": 15,
     "metadata": {},
     "output_type": "execute_result"
    }
   ],
   "source": [
    "get_product(x=2, y=\"3\")"
   ]
  },
  {
   "cell_type": "code",
   "execution_count": 17,
   "metadata": {},
   "outputs": [],
   "source": [
    "from ensure import ensure_annotations\n",
    "\n",
    "@ensure_annotations\n",
    "def get_product(x: int, y: int) -> int:\n",
    "    return x * y"
   ]
  },
  {
   "cell_type": "code",
   "execution_count": 18,
   "metadata": {},
   "outputs": [
    {
     "ename": "EnsureError",
     "evalue": "Argument y of type <class 'str'> to <function get_product at 0x0000016D2F931EE0> does not match annotation type <class 'int'>",
     "output_type": "error",
     "traceback": [
      "\u001b[1;31m---------------------------------------------------------------------------\u001b[0m",
      "\u001b[1;31mEnsureError\u001b[0m                               Traceback (most recent call last)",
      "\u001b[1;32me:\\NutBodyslam053\\work\\Projects\\MLOps\\BD528-software_engineering\\research\\trials-configbox.ipynb Cell 10\u001b[0m line \u001b[0;36m1\n\u001b[1;32m----> <a href='vscode-notebook-cell:/e%3A/NutBodyslam053/work/Projects/MLOps/BD528-software_engineering/research/trials-configbox.ipynb#X12sZmlsZQ%3D%3D?line=0'>1</a>\u001b[0m get_product(x\u001b[39m=\u001b[39;49m\u001b[39m2\u001b[39;49m, y\u001b[39m=\u001b[39;49m\u001b[39m\"\u001b[39;49m\u001b[39m3\u001b[39;49m\u001b[39m\"\u001b[39;49m)\n",
      "File \u001b[1;32me:\\NutBodyslam053\\work\\Projects\\MLOps\\BD528-software_engineering\\venv\\lib\\site-packages\\ensure\\main.py:845\u001b[0m, in \u001b[0;36mWrappedFunctionReturn.__call__\u001b[1;34m(self, *args, **kwargs)\u001b[0m\n\u001b[0;32m    840\u001b[0m     \u001b[39mif\u001b[39;00m \u001b[39mnot\u001b[39;00m \u001b[39misinstance\u001b[39m(value, templ):\n\u001b[0;32m    841\u001b[0m         msg \u001b[39m=\u001b[39m (\n\u001b[0;32m    842\u001b[0m             \u001b[39m\"\u001b[39m\u001b[39mArgument \u001b[39m\u001b[39m{arg}\u001b[39;00m\u001b[39m of type \u001b[39m\u001b[39m{valt}\u001b[39;00m\u001b[39m to \u001b[39m\u001b[39m{f}\u001b[39;00m\u001b[39m \u001b[39m\u001b[39m\"\u001b[39m\n\u001b[0;32m    843\u001b[0m             \u001b[39m\"\u001b[39m\u001b[39mdoes not match annotation type \u001b[39m\u001b[39m{t}\u001b[39;00m\u001b[39m\"\u001b[39m\n\u001b[0;32m    844\u001b[0m         )\n\u001b[1;32m--> 845\u001b[0m         \u001b[39mraise\u001b[39;00m EnsureError(msg\u001b[39m.\u001b[39mformat(\n\u001b[0;32m    846\u001b[0m             arg\u001b[39m=\u001b[39marg, f\u001b[39m=\u001b[39m\u001b[39mself\u001b[39m\u001b[39m.\u001b[39mf, t\u001b[39m=\u001b[39mtempl, valt\u001b[39m=\u001b[39m\u001b[39mtype\u001b[39m(value)\n\u001b[0;32m    847\u001b[0m         ))\n\u001b[0;32m    849\u001b[0m return_val \u001b[39m=\u001b[39m \u001b[39mself\u001b[39m\u001b[39m.\u001b[39mf(\u001b[39m*\u001b[39margs, \u001b[39m*\u001b[39m\u001b[39m*\u001b[39mkwargs)\n\u001b[0;32m    850\u001b[0m \u001b[39mif\u001b[39;00m \u001b[39mnot\u001b[39;00m \u001b[39misinstance\u001b[39m(return_val, \u001b[39mself\u001b[39m\u001b[39m.\u001b[39mreturn_templ):\n",
      "\u001b[1;31mEnsureError\u001b[0m: Argument y of type <class 'str'> to <function get_product at 0x0000016D2F931EE0> does not match annotation type <class 'int'>"
     ]
    }
   ],
   "source": [
    "get_product(x=2, y=\"3\")"
   ]
  },
  {
   "cell_type": "markdown",
   "metadata": {},
   "source": [
    "## dataclass"
   ]
  },
  {
   "cell_type": "code",
   "execution_count": 12,
   "metadata": {},
   "outputs": [],
   "source": [
    "class Person:\n",
    "    def __init__(self, name, age, profession):\n",
    "        self.name = name\n",
    "        self.age = age\n",
    "        self.profession = profession\n",
    "\n",
    "    def __repr__(self):\n",
    "        return f\"Person(name={self.name}, age={self.age}, profession={self.profession})\""
   ]
  },
  {
   "cell_type": "code",
   "execution_count": 14,
   "metadata": {},
   "outputs": [
    {
     "name": "stdout",
     "output_type": "stream",
     "text": [
      "Person(name=Witchakorn, age=31, profession=DataEngineer)\n",
      "Witchakorn\n",
      "31\n",
      "DataEngineer\n"
     ]
    }
   ],
   "source": [
    "person1 = Person(\"Witchakorn\", 31, \"DataEngineer\")\n",
    "print(person1)\n",
    "print(person1.name)\n",
    "print(person1.age)\n",
    "print(person1.profession)"
   ]
  },
  {
   "cell_type": "code",
   "execution_count": 16,
   "metadata": {},
   "outputs": [],
   "source": [
    "from dataclasses import dataclass\n",
    "\n",
    "\n",
    "@dataclass\n",
    "class Person:\n",
    "    name: str\n",
    "    age: int\n",
    "    profession: str"
   ]
  },
  {
   "cell_type": "code",
   "execution_count": 17,
   "metadata": {},
   "outputs": [
    {
     "name": "stdout",
     "output_type": "stream",
     "text": [
      "Person(name='Witchakorn', age=31, profession='DataEngineer')\n",
      "Witchakorn\n",
      "31\n",
      "DataEngineer\n"
     ]
    }
   ],
   "source": [
    "person1 = Person(\"Witchakorn\", 31, \"DataEngineer\")\n",
    "print(person1)\n",
    "print(person1.name)\n",
    "print(person1.age)\n",
    "print(person1.profession)"
   ]
  },
  {
   "cell_type": "code",
   "execution_count": 18,
   "metadata": {},
   "outputs": [
    {
     "name": "stdout",
     "output_type": "stream",
     "text": [
      "69\n"
     ]
    }
   ],
   "source": [
    "person1.age = 69\n",
    "print(person1.age)"
   ]
  },
  {
   "cell_type": "markdown",
   "metadata": {},
   "source": [
    "#### Imputation"
   ]
  },
  {
   "cell_type": "code",
   "execution_count": 20,
   "metadata": {},
   "outputs": [],
   "source": [
    "from dataclasses import dataclass\n",
    "\n",
    "\n",
    "@dataclass(frozen=True)\n",
    "class Person:\n",
    "    name: str\n",
    "    age: int\n",
    "    profession: str"
   ]
  },
  {
   "cell_type": "code",
   "execution_count": 21,
   "metadata": {},
   "outputs": [
    {
     "name": "stdout",
     "output_type": "stream",
     "text": [
      "Person(name='Witchakorn', age=31, profession='DataEngineer')\n",
      "Witchakorn\n",
      "31\n",
      "DataEngineer\n"
     ]
    }
   ],
   "source": [
    "person1 = Person(\"Witchakorn\", 31, \"DataEngineer\")\n",
    "print(person1)\n",
    "print(person1.name)\n",
    "print(person1.age)\n",
    "print(person1.profession)"
   ]
  },
  {
   "cell_type": "code",
   "execution_count": 22,
   "metadata": {},
   "outputs": [
    {
     "ename": "FrozenInstanceError",
     "evalue": "cannot assign to field 'age'",
     "output_type": "error",
     "traceback": [
      "\u001b[1;31m---------------------------------------------------------------------------\u001b[0m",
      "\u001b[1;31mFrozenInstanceError\u001b[0m                       Traceback (most recent call last)",
      "\u001b[1;32me:\\NutBodyslam053\\work\\Projects\\MLOps\\BD528-software_engineering\\research\\trials.ipynb Cell 22\u001b[0m line \u001b[0;36m1\n\u001b[1;32m----> <a href='vscode-notebook-cell:/e%3A/NutBodyslam053/work/Projects/MLOps/BD528-software_engineering/research/trials.ipynb#X26sZmlsZQ%3D%3D?line=0'>1</a>\u001b[0m person1\u001b[39m.\u001b[39;49mage \u001b[39m=\u001b[39m \u001b[39m69\u001b[39m\n",
      "File \u001b[1;32m<string>:4\u001b[0m, in \u001b[0;36m__setattr__\u001b[1;34m(self, name, value)\u001b[0m\n",
      "\u001b[1;31mFrozenInstanceError\u001b[0m: cannot assign to field 'age'"
     ]
    }
   ],
   "source": [
    "person1.age = 69"
   ]
  },
  {
   "cell_type": "markdown",
   "metadata": {},
   "source": [
    "#### Inheritance"
   ]
  },
  {
   "cell_type": "code",
   "execution_count": 26,
   "metadata": {},
   "outputs": [],
   "source": [
    "from dataclasses import dataclass\n",
    "\n",
    "\n",
    "@dataclass\n",
    "class Person:\n",
    "    name: str\n",
    "    age: int\n",
    "    profession: str\n",
    "\n",
    "\n",
    "@dataclass\n",
    "class Employee(Person):\n",
    "    employee_id: str\n",
    "    department: str"
   ]
  },
  {
   "cell_type": "code",
   "execution_count": 27,
   "metadata": {},
   "outputs": [
    {
     "name": "stdout",
     "output_type": "stream",
     "text": [
      "Person(name='Witchakorn', age=31, profession='DataEngineer')\n",
      "Employee(name='Witchakorn', age=31, profession='DataEngineer', employee_id='BD65130459', department='DataAnalytics')\n"
     ]
    }
   ],
   "source": [
    "person1 = Person(\"Witchakorn\", 31, \"DataEngineer\")\n",
    "print(person1)\n",
    "\n",
    "employee1 = Employee(\"Witchakorn\", 31, \"DataEngineer\",\n",
    "                     \"BD65130459\", \"DataAnalytics\")\n",
    "print(employee1)"
   ]
  },
  {
   "cell_type": "markdown",
   "metadata": {},
   "source": [
    "#### Nested Data Class"
   ]
  },
  {
   "cell_type": "code",
   "execution_count": 28,
   "metadata": {},
   "outputs": [],
   "source": [
    "from dataclasses import dataclass\n",
    "\n",
    "\n",
    "@dataclass\n",
    "class Address:\n",
    "    street: str\n",
    "    city: str\n",
    "    zip_code: str\n",
    "\n",
    "\n",
    "@dataclass\n",
    "class Person:\n",
    "    name: str\n",
    "    age: int\n",
    "    address: Address"
   ]
  },
  {
   "cell_type": "code",
   "execution_count": 29,
   "metadata": {},
   "outputs": [
    {
     "name": "stdout",
     "output_type": "stream",
     "text": [
      "Address(street='159/53 Gusto-Donmueang', city='Bangkok', zip_code='10210')\n",
      "Person(name='Witchakorn', age=31, address=Address(street='159/53 Gusto-Donmueang', city='Bangkok', zip_code='10210'))\n"
     ]
    }
   ],
   "source": [
    "address1 = Address(\"159/53 Gusto-Donmueang\", \"Bangkok\", \"10210\")\n",
    "print(address1)\n",
    "\n",
    "person1 = Person(\"Witchakorn\", 31, address1)\n",
    "print(person1)"
   ]
  },
  {
   "cell_type": "markdown",
   "metadata": {},
   "source": [
    "## API test"
   ]
  },
  {
   "cell_type": "code",
   "execution_count": 41,
   "metadata": {},
   "outputs": [
    {
     "data": {
      "text/html": [
       "<div>\n",
       "<style scoped>\n",
       "    .dataframe tbody tr th:only-of-type {\n",
       "        vertical-align: middle;\n",
       "    }\n",
       "\n",
       "    .dataframe tbody tr th {\n",
       "        vertical-align: top;\n",
       "    }\n",
       "\n",
       "    .dataframe thead th {\n",
       "        text-align: right;\n",
       "    }\n",
       "</style>\n",
       "<table border=\"1\" class=\"dataframe\">\n",
       "  <thead>\n",
       "    <tr style=\"text-align: right;\">\n",
       "      <th></th>\n",
       "      <th>Age</th>\n",
       "      <th>Gender</th>\n",
       "      <th>Family_Diabetes</th>\n",
       "      <th>highBP</th>\n",
       "      <th>PhysicallyActive</th>\n",
       "      <th>BMI</th>\n",
       "      <th>Smoking</th>\n",
       "      <th>Alcohol</th>\n",
       "      <th>Sleep</th>\n",
       "      <th>SoundSleep</th>\n",
       "      <th>RegularMedicine</th>\n",
       "      <th>JunkFood</th>\n",
       "      <th>Stress</th>\n",
       "      <th>BPLevel</th>\n",
       "      <th>Pregancies</th>\n",
       "      <th>Pdiabetes</th>\n",
       "      <th>UriationFreq</th>\n",
       "      <th>Diabetic</th>\n",
       "    </tr>\n",
       "  </thead>\n",
       "  <tbody>\n",
       "    <tr>\n",
       "      <th>0</th>\n",
       "      <td>50-59</td>\n",
       "      <td>Male</td>\n",
       "      <td>no</td>\n",
       "      <td>yes</td>\n",
       "      <td>one hr or more</td>\n",
       "      <td>39.0</td>\n",
       "      <td>no</td>\n",
       "      <td>no</td>\n",
       "      <td>8</td>\n",
       "      <td>6</td>\n",
       "      <td>no</td>\n",
       "      <td>occasionally</td>\n",
       "      <td>sometimes</td>\n",
       "      <td>high</td>\n",
       "      <td>0.0</td>\n",
       "      <td>no</td>\n",
       "      <td>not much</td>\n",
       "      <td>no</td>\n",
       "    </tr>\n",
       "    <tr>\n",
       "      <th>1</th>\n",
       "      <td>50-59</td>\n",
       "      <td>Male</td>\n",
       "      <td>no</td>\n",
       "      <td>yes</td>\n",
       "      <td>less than half an hr</td>\n",
       "      <td>28.0</td>\n",
       "      <td>no</td>\n",
       "      <td>no</td>\n",
       "      <td>8</td>\n",
       "      <td>6</td>\n",
       "      <td>yes</td>\n",
       "      <td>very often</td>\n",
       "      <td>sometimes</td>\n",
       "      <td>normal</td>\n",
       "      <td>0.0</td>\n",
       "      <td>no</td>\n",
       "      <td>not much</td>\n",
       "      <td>no</td>\n",
       "    </tr>\n",
       "    <tr>\n",
       "      <th>2</th>\n",
       "      <td>40-49</td>\n",
       "      <td>Male</td>\n",
       "      <td>no</td>\n",
       "      <td>no</td>\n",
       "      <td>one hr or more</td>\n",
       "      <td>24.0</td>\n",
       "      <td>no</td>\n",
       "      <td>no</td>\n",
       "      <td>6</td>\n",
       "      <td>6</td>\n",
       "      <td>no</td>\n",
       "      <td>occasionally</td>\n",
       "      <td>sometimes</td>\n",
       "      <td>normal</td>\n",
       "      <td>0.0</td>\n",
       "      <td>no</td>\n",
       "      <td>not much</td>\n",
       "      <td>no</td>\n",
       "    </tr>\n",
       "    <tr>\n",
       "      <th>3</th>\n",
       "      <td>50-59</td>\n",
       "      <td>Male</td>\n",
       "      <td>no</td>\n",
       "      <td>no</td>\n",
       "      <td>one hr or more</td>\n",
       "      <td>23.0</td>\n",
       "      <td>no</td>\n",
       "      <td>no</td>\n",
       "      <td>8</td>\n",
       "      <td>6</td>\n",
       "      <td>no</td>\n",
       "      <td>occasionally</td>\n",
       "      <td>sometimes</td>\n",
       "      <td>normal</td>\n",
       "      <td>0.0</td>\n",
       "      <td>no</td>\n",
       "      <td>not much</td>\n",
       "      <td>no</td>\n",
       "    </tr>\n",
       "    <tr>\n",
       "      <th>4</th>\n",
       "      <td>40-49</td>\n",
       "      <td>Male</td>\n",
       "      <td>no</td>\n",
       "      <td>no</td>\n",
       "      <td>less than half an hr</td>\n",
       "      <td>27.0</td>\n",
       "      <td>no</td>\n",
       "      <td>no</td>\n",
       "      <td>8</td>\n",
       "      <td>8</td>\n",
       "      <td>no</td>\n",
       "      <td>occasionally</td>\n",
       "      <td>sometimes</td>\n",
       "      <td>normal</td>\n",
       "      <td>0.0</td>\n",
       "      <td>no</td>\n",
       "      <td>not much</td>\n",
       "      <td>no</td>\n",
       "    </tr>\n",
       "    <tr>\n",
       "      <th>...</th>\n",
       "      <td>...</td>\n",
       "      <td>...</td>\n",
       "      <td>...</td>\n",
       "      <td>...</td>\n",
       "      <td>...</td>\n",
       "      <td>...</td>\n",
       "      <td>...</td>\n",
       "      <td>...</td>\n",
       "      <td>...</td>\n",
       "      <td>...</td>\n",
       "      <td>...</td>\n",
       "      <td>...</td>\n",
       "      <td>...</td>\n",
       "      <td>...</td>\n",
       "      <td>...</td>\n",
       "      <td>...</td>\n",
       "      <td>...</td>\n",
       "      <td>...</td>\n",
       "    </tr>\n",
       "    <tr>\n",
       "      <th>900</th>\n",
       "      <td>less than 40</td>\n",
       "      <td>Male</td>\n",
       "      <td>yes</td>\n",
       "      <td>no</td>\n",
       "      <td>more than half an hr</td>\n",
       "      <td>25.0</td>\n",
       "      <td>no</td>\n",
       "      <td>no</td>\n",
       "      <td>8</td>\n",
       "      <td>6</td>\n",
       "      <td>no</td>\n",
       "      <td>often</td>\n",
       "      <td>sometimes</td>\n",
       "      <td>normal</td>\n",
       "      <td>0.0</td>\n",
       "      <td>no</td>\n",
       "      <td>not much</td>\n",
       "      <td>yes</td>\n",
       "    </tr>\n",
       "    <tr>\n",
       "      <th>901</th>\n",
       "      <td>60 or older</td>\n",
       "      <td>Male</td>\n",
       "      <td>yes</td>\n",
       "      <td>yes</td>\n",
       "      <td>more than half an hr</td>\n",
       "      <td>27.0</td>\n",
       "      <td>no</td>\n",
       "      <td>no</td>\n",
       "      <td>6</td>\n",
       "      <td>5</td>\n",
       "      <td>yes</td>\n",
       "      <td>occasionally</td>\n",
       "      <td>sometimes</td>\n",
       "      <td>high</td>\n",
       "      <td>0.0</td>\n",
       "      <td>no</td>\n",
       "      <td>quite often</td>\n",
       "      <td>yes</td>\n",
       "    </tr>\n",
       "    <tr>\n",
       "      <th>902</th>\n",
       "      <td>60 or older</td>\n",
       "      <td>Male</td>\n",
       "      <td>no</td>\n",
       "      <td>yes</td>\n",
       "      <td>none</td>\n",
       "      <td>23.0</td>\n",
       "      <td>no</td>\n",
       "      <td>no</td>\n",
       "      <td>6</td>\n",
       "      <td>5</td>\n",
       "      <td>yes</td>\n",
       "      <td>occasionally</td>\n",
       "      <td>sometimes</td>\n",
       "      <td>high</td>\n",
       "      <td>0.0</td>\n",
       "      <td>no</td>\n",
       "      <td>not much</td>\n",
       "      <td>no</td>\n",
       "    </tr>\n",
       "    <tr>\n",
       "      <th>903</th>\n",
       "      <td>60 or older</td>\n",
       "      <td>Male</td>\n",
       "      <td>no</td>\n",
       "      <td>yes</td>\n",
       "      <td>less than half an hr</td>\n",
       "      <td>27.0</td>\n",
       "      <td>no</td>\n",
       "      <td>yes</td>\n",
       "      <td>6</td>\n",
       "      <td>5</td>\n",
       "      <td>yes</td>\n",
       "      <td>occasionally</td>\n",
       "      <td>very often</td>\n",
       "      <td>high</td>\n",
       "      <td>0.0</td>\n",
       "      <td>no</td>\n",
       "      <td>not much</td>\n",
       "      <td>no</td>\n",
       "    </tr>\n",
       "    <tr>\n",
       "      <th>904</th>\n",
       "      <td>60 or older</td>\n",
       "      <td>Female</td>\n",
       "      <td>yes</td>\n",
       "      <td>yes</td>\n",
       "      <td>one hr or more</td>\n",
       "      <td>30.0</td>\n",
       "      <td>no</td>\n",
       "      <td>no</td>\n",
       "      <td>7</td>\n",
       "      <td>4</td>\n",
       "      <td>yes</td>\n",
       "      <td>occasionally</td>\n",
       "      <td>sometimes</td>\n",
       "      <td>high</td>\n",
       "      <td>2.0</td>\n",
       "      <td>no</td>\n",
       "      <td>quite often</td>\n",
       "      <td>yes</td>\n",
       "    </tr>\n",
       "  </tbody>\n",
       "</table>\n",
       "<p>905 rows × 18 columns</p>\n",
       "</div>"
      ],
      "text/plain": [
       "              Age  Gender Family_Diabetes highBP      PhysicallyActive   BMI  \\\n",
       "0           50-59    Male              no    yes        one hr or more  39.0   \n",
       "1           50-59    Male              no    yes  less than half an hr  28.0   \n",
       "2           40-49    Male              no     no        one hr or more  24.0   \n",
       "3           50-59    Male              no     no        one hr or more  23.0   \n",
       "4           40-49    Male              no     no  less than half an hr  27.0   \n",
       "..            ...     ...             ...    ...                   ...   ...   \n",
       "900  less than 40    Male             yes     no  more than half an hr  25.0   \n",
       "901   60 or older    Male             yes    yes  more than half an hr  27.0   \n",
       "902   60 or older    Male              no    yes                  none  23.0   \n",
       "903   60 or older    Male              no    yes  less than half an hr  27.0   \n",
       "904   60 or older  Female             yes    yes        one hr or more  30.0   \n",
       "\n",
       "    Smoking Alcohol  Sleep  SoundSleep RegularMedicine      JunkFood  \\\n",
       "0        no      no      8           6              no  occasionally   \n",
       "1        no      no      8           6             yes    very often   \n",
       "2        no      no      6           6              no  occasionally   \n",
       "3        no      no      8           6              no  occasionally   \n",
       "4        no      no      8           8              no  occasionally   \n",
       "..      ...     ...    ...         ...             ...           ...   \n",
       "900      no      no      8           6              no         often   \n",
       "901      no      no      6           5             yes  occasionally   \n",
       "902      no      no      6           5             yes  occasionally   \n",
       "903      no     yes      6           5             yes  occasionally   \n",
       "904      no      no      7           4             yes  occasionally   \n",
       "\n",
       "         Stress BPLevel  Pregancies Pdiabetes UriationFreq Diabetic  \n",
       "0     sometimes    high         0.0        no     not much       no  \n",
       "1     sometimes  normal         0.0        no     not much       no  \n",
       "2     sometimes  normal         0.0        no     not much       no  \n",
       "3     sometimes  normal         0.0        no     not much       no  \n",
       "4     sometimes  normal         0.0        no     not much       no  \n",
       "..          ...     ...         ...       ...          ...      ...  \n",
       "900   sometimes  normal         0.0        no     not much      yes  \n",
       "901   sometimes    high         0.0        no  quite often      yes  \n",
       "902   sometimes    high         0.0        no     not much       no  \n",
       "903  very often    high         0.0        no     not much       no  \n",
       "904   sometimes    high         2.0        no  quite often      yes  \n",
       "\n",
       "[905 rows x 18 columns]"
      ]
     },
     "execution_count": 41,
     "metadata": {},
     "output_type": "execute_result"
    }
   ],
   "source": [
    "import pandas as pd\n",
    "\n",
    "df = pd.read_csv('../artifacts/01_data_ingestion/diabetes_dataset__2019.csv')\n",
    "df.dropna(inplace=True)\n",
    "df.reset_index(drop=True, inplace=True)\n",
    "df['Pdiabetes'].replace('0', 'no', inplace=True)\n",
    "df"
   ]
  },
  {
   "cell_type": "code",
   "execution_count": 42,
   "metadata": {},
   "outputs": [
    {
     "name": "stdout",
     "output_type": "stream",
     "text": [
      "{\n",
      "    \"Age\":\"50-59\",\n",
      "    \"Gender\":\"Male\",\n",
      "    \"Family_Diabetes\":\"no\",\n",
      "    \"highBP\":\"yes\",\n",
      "    \"PhysicallyActive\":\"one hr or more\",\n",
      "    \"BMI\":39.0,\n",
      "    \"Smoking\":\"no\",\n",
      "    \"Alcohol\":\"no\",\n",
      "    \"Sleep\":8,\n",
      "    \"SoundSleep\":6,\n",
      "    \"RegularMedicine\":\"no\",\n",
      "    \"JunkFood\":\"occasionally\",\n",
      "    \"Stress\":\"sometimes\",\n",
      "    \"BPLevel\":\"high\",\n",
      "    \"Pregancies\":0.0,\n",
      "    \"Pdiabetes\":\"no\",\n",
      "    \"UriationFreq\":\"not much\"\n",
      "}\n"
     ]
    }
   ],
   "source": [
    "print(df.iloc[0, :-1].to_json(indent=4))"
   ]
  },
  {
   "cell_type": "code",
   "execution_count": 43,
   "metadata": {},
   "outputs": [
    {
     "name": "stdout",
     "output_type": "stream",
     "text": [
      "{\n",
      "    \"Age\":\"60 or older\",\n",
      "    \"Gender\":\"Male\",\n",
      "    \"Family_Diabetes\":\"yes\",\n",
      "    \"highBP\":\"yes\",\n",
      "    \"PhysicallyActive\":\"more than half an hr\",\n",
      "    \"BMI\":27.0,\n",
      "    \"Smoking\":\"no\",\n",
      "    \"Alcohol\":\"no\",\n",
      "    \"Sleep\":6,\n",
      "    \"SoundSleep\":5,\n",
      "    \"RegularMedicine\":\"yes\",\n",
      "    \"JunkFood\":\"occasionally\",\n",
      "    \"Stress\":\"sometimes\",\n",
      "    \"BPLevel\":\"high\",\n",
      "    \"Pregancies\":0.0,\n",
      "    \"Pdiabetes\":\"no\",\n",
      "    \"UriationFreq\":\"quite often\"\n",
      "}\n"
     ]
    }
   ],
   "source": [
    "print(df.iloc[901, :-1].to_json(indent=4))"
   ]
  },
  {
   "cell_type": "markdown",
   "metadata": {},
   "source": [
    "## Unit Test"
   ]
  },
  {
   "cell_type": "markdown",
   "metadata": {},
   "source": [
    "### Flake8"
   ]
  },
  {
   "cell_type": "code",
   "execution_count": null,
   "metadata": {},
   "outputs": [],
   "source": [
    "# content of test_sample.py\n",
    "import os\n",
    "\n",
    "def greeting(name):\n",
    "    print(\"Hello, \" + name)\n",
    "    \n",
    "first_name\n",
    "\n",
    "greeting()\n",
    " greeting(\"Bob\")"
   ]
  },
  {
   "cell_type": "markdown",
   "metadata": {},
   "source": [
    "### Pytest"
   ]
  },
  {
   "cell_type": "code",
   "execution_count": null,
   "metadata": {},
   "outputs": [],
   "source": [
    "# content of test_sample.py\n",
    "def inc(x):\n",
    "    return x + 1\n",
    "\n",
    "\n",
    "def test_answer():\n",
    "    assert inc(3) == 5"
   ]
  },
  {
   "cell_type": "code",
   "execution_count": 1,
   "metadata": {},
   "outputs": [
    {
     "name": "stdout",
     "output_type": "stream",
     "text": [
      "Original: Hello World\n",
      "Title Case: Hello World\n",
      "Upper Case: HELLO WORLD\n",
      "Lower Case: hello world\n",
      "Snake Case: hello_world\n",
      "Camel Case: HelloWorld\n",
      "Kebab Case: hello-world\n"
     ]
    }
   ],
   "source": [
    "def transform_case(text, case_transform):\n",
    "    return case_transform(text)\n",
    "\n",
    "text = \"Hello World\"\n",
    "\n",
    "# Title Case\n",
    "title_case = transform_case(text, str.title)\n",
    "\n",
    "# Upper Case\n",
    "upper_case = transform_case(text, str.upper)\n",
    "\n",
    "# Lower Case\n",
    "lower_case = transform_case(text, str.lower)\n",
    "\n",
    "# Snake Case\n",
    "snake_case = \"_\".join(word.lower() for word in text.split())\n",
    "\n",
    "# Camel Case\n",
    "camel_case = \"\".join(word.title() for word in text.split())\n",
    "\n",
    "# Kebab Case\n",
    "kebab_case = \"-\".join(word.lower() for word in text.split())\n",
    "\n",
    "# Display the results\n",
    "print(f\"Original: {text}\")\n",
    "print(f\"Title Case: {title_case}\")\n",
    "print(f\"Upper Case: {upper_case}\")\n",
    "print(f\"Lower Case: {lower_case}\")\n",
    "print(f\"Snake Case: {snake_case}\")\n",
    "print(f\"Camel Case: {camel_case}\")\n",
    "print(f\"Kebab Case: {kebab_case}\")\n"
   ]
  },
  {
   "cell_type": "code",
   "execution_count": 5,
   "metadata": {},
   "outputs": [
    {
     "name": "stdout",
     "output_type": "stream",
     "text": [
      "Form Data: \u001b[92m555\u001b[0m\n"
     ]
    }
   ],
   "source": [
    "print('Form Data:', '\\033[92m' + \"555\" + '\\033[0m')"
   ]
  },
  {
   "cell_type": "code",
   "execution_count": null,
   "metadata": {},
   "outputs": [],
   "source": []
  }
 ],
 "metadata": {
  "kernelspec": {
   "display_name": "Python 3",
   "language": "python",
   "name": "python3"
  },
  "language_info": {
   "codemirror_mode": {
    "name": "ipython",
    "version": 3
   },
   "file_extension": ".py",
   "mimetype": "text/x-python",
   "name": "python",
   "nbconvert_exporter": "python",
   "pygments_lexer": "ipython3",
   "version": "3.9.18"
  },
  "orig_nbformat": 4
 },
 "nbformat": 4,
 "nbformat_minor": 2
}
